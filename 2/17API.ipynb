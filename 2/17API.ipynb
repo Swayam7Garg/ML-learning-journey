{
 "cells": [
  {
   "cell_type": "code",
   "execution_count": 2,
   "id": "981d60ad-7e90-4e77-a146-e052adf87468",
   "metadata": {},
   "outputs": [],
   "source": [
    "import pandas as pd \n",
    "import requests"
   ]
  },
  {
   "cell_type": "code",
   "execution_count": 8,
   "id": "830bf649-8798-4e2b-bfd4-2aa690806953",
   "metadata": {},
   "outputs": [],
   "source": [
    "response = requests.get('https://isro.vercel.app/api/spacecrafts')"
   ]
  },
  {
   "cell_type": "code",
   "execution_count": 30,
   "id": "7bcb20af-06bf-4d2f-92f9-798f53fdaa28",
   "metadata": {},
   "outputs": [],
   "source": [
    "df = pd.DataFrame(response.json()['spacecrafts'])\n"
   ]
  },
  {
   "cell_type": "code",
   "execution_count": 34,
   "id": "ed53d1bb-4315-4fad-9c2a-607cdd153961",
   "metadata": {},
   "outputs": [],
   "source": [
    "df = df.set_index('id') "
   ]
  },
  {
   "cell_type": "code",
   "execution_count": 36,
   "id": "ce890456-2415-4d2f-b5ef-a6c40ba73e5b",
   "metadata": {},
   "outputs": [
    {
     "data": {
      "text/html": [
       "<div>\n",
       "<style scoped>\n",
       "    .dataframe tbody tr th:only-of-type {\n",
       "        vertical-align: middle;\n",
       "    }\n",
       "\n",
       "    .dataframe tbody tr th {\n",
       "        vertical-align: top;\n",
       "    }\n",
       "\n",
       "    .dataframe thead th {\n",
       "        text-align: right;\n",
       "    }\n",
       "</style>\n",
       "<table border=\"1\" class=\"dataframe\">\n",
       "  <thead>\n",
       "    <tr style=\"text-align: right;\">\n",
       "      <th></th>\n",
       "      <th>name</th>\n",
       "    </tr>\n",
       "    <tr>\n",
       "      <th>id</th>\n",
       "      <th></th>\n",
       "    </tr>\n",
       "  </thead>\n",
       "  <tbody>\n",
       "    <tr>\n",
       "      <th>1</th>\n",
       "      <td>Aryabhata</td>\n",
       "    </tr>\n",
       "    <tr>\n",
       "      <th>2</th>\n",
       "      <td>Bhaskara-I</td>\n",
       "    </tr>\n",
       "    <tr>\n",
       "      <th>3</th>\n",
       "      <td>Rohini Technology Payload (RTP)</td>\n",
       "    </tr>\n",
       "    <tr>\n",
       "      <th>4</th>\n",
       "      <td>Rohini Satellite RS-1</td>\n",
       "    </tr>\n",
       "    <tr>\n",
       "      <th>5</th>\n",
       "      <td>Rohini Satellite RS-D1</td>\n",
       "    </tr>\n",
       "    <tr>\n",
       "      <th>...</th>\n",
       "      <td>...</td>\n",
       "    </tr>\n",
       "    <tr>\n",
       "      <th>108</th>\n",
       "      <td>RISAT-2BR1</td>\n",
       "    </tr>\n",
       "    <tr>\n",
       "      <th>109</th>\n",
       "      <td>GSAT-30</td>\n",
       "    </tr>\n",
       "    <tr>\n",
       "      <th>110</th>\n",
       "      <td>EOS-01</td>\n",
       "    </tr>\n",
       "    <tr>\n",
       "      <th>111</th>\n",
       "      <td>CMS-01</td>\n",
       "    </tr>\n",
       "    <tr>\n",
       "      <th>112</th>\n",
       "      <td>EOS-03</td>\n",
       "    </tr>\n",
       "  </tbody>\n",
       "</table>\n",
       "<p>112 rows × 1 columns</p>\n",
       "</div>"
      ],
      "text/plain": [
       "                                name\n",
       "id                                  \n",
       "1                          Aryabhata\n",
       "2                         Bhaskara-I\n",
       "3    Rohini Technology Payload (RTP)\n",
       "4              Rohini Satellite RS-1\n",
       "5             Rohini Satellite RS-D1\n",
       "..                               ...\n",
       "108                       RISAT-2BR1\n",
       "109                          GSAT-30\n",
       "110                           EOS-01\n",
       "111                           CMS-01\n",
       "112                           EOS-03\n",
       "\n",
       "[112 rows x 1 columns]"
      ]
     },
     "execution_count": 36,
     "metadata": {},
     "output_type": "execute_result"
    }
   ],
   "source": [
    "df"
   ]
  },
  {
   "cell_type": "code",
   "execution_count": 38,
   "id": "2918ffe2-c692-4819-b150-3134f57b960b",
   "metadata": {},
   "outputs": [],
   "source": [
    "df.to_csv('Isro_spacecrafts.csv')"
   ]
  },
  {
   "cell_type": "code",
   "execution_count": null,
   "id": "2e1b00aa-ed99-4207-a52c-bbcf0ea39cf6",
   "metadata": {},
   "outputs": [],
   "source": []
  }
 ],
 "metadata": {
  "kernelspec": {
   "display_name": "Python [conda env:base] *",
   "language": "python",
   "name": "conda-base-py"
  },
  "language_info": {
   "codemirror_mode": {
    "name": "ipython",
    "version": 3
   },
   "file_extension": ".py",
   "mimetype": "text/x-python",
   "name": "python",
   "nbconvert_exporter": "python",
   "pygments_lexer": "ipython3",
   "version": "3.12.7"
  }
 },
 "nbformat": 4,
 "nbformat_minor": 5
}
