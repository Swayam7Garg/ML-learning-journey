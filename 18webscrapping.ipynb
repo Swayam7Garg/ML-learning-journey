{
 "cells": [
  {
   "cell_type": "code",
   "execution_count": 10,
   "id": "6014a8e7-45c0-40e4-83e3-8c5975722b45",
   "metadata": {},
   "outputs": [],
   "source": [
    "import pandas as pd\n",
    "import requests\n",
    "from bs4 import BeautifulSoup #this is a library used for web scrapping"
   ]
  },
  {
   "cell_type": "code",
   "execution_count": 12,
   "id": "562ac7b8-7207-4302-9eb5-222ff77b8a75",
   "metadata": {},
   "outputs": [],
   "source": [
    "headers={'User-Agent':'Mozilla/5.0 (Windows NT 6.3; Win 64 ; x64) Apple WeKit /537.36(KHTML , like Gecko) Chrome/80.0.3987.162 Safari/537.36',\"Accept\": 'text/html,application/xhtml+xml,application/xml;q=0.9,image/avif,image/webp,image/apng,*/*;q=0.8,application/signed-exchange;v=b3;q=0.7', 'sec-ch-ua': 'Chromium\";v=\"130\", \"Google Chrome\";v=\"130\", \"Not?A_Brand\";v=\"99', 'sec-ch-ua-mobile':'?0', 'sec-ch-ua-platform': 'Windows', 'sec-fetch-dest': 'document', 'sec-fetch-mode': 'navigate', 'sec-fetch-site': 'same-origin', 'sec-fetch-user': '?1', 'upgrade-insecure-requests': '1'}\n",
    "webpage = requests.get('https://www.ambitionbox.com/list-of-companies?page=1',headers = headers).text\n"
   ]
  },
  {
   "cell_type": "code",
   "execution_count": 14,
   "id": "b5730982-cefd-42bf-9a82-ea18b707f8ce",
   "metadata": {},
   "outputs": [],
   "source": [
    "soup = BeautifulSoup(webpage , 'lxml')"
   ]
  },
  {
   "cell_type": "code",
   "execution_count": 20,
   "id": "d07fa77a-885c-46d4-aa7a-7a56c653e234",
   "metadata": {},
   "outputs": [],
   "source": [
    "#print(soup.prettify())"
   ]
  },
  {
   "cell_type": "markdown",
   "id": "d40de35b-85ce-4bcf-acf8-b0973eb3015a",
   "metadata": {},
   "source": [
    "# to show tags in the webpage"
   ]
  },
  {
   "cell_type": "code",
   "execution_count": 25,
   "id": "7c369133-d7e0-46a2-88f7-8f3a581ec405",
   "metadata": {},
   "outputs": [
    {
     "data": {
      "text/plain": [
       "[<h1 class=\"companyListing__title\">\n",
       " \t\t\t\t\t\t\tCompanies in India\n",
       " \t\t\t\t\t\t</h1>]"
      ]
     },
     "execution_count": 25,
     "metadata": {},
     "output_type": "execute_result"
    }
   ],
   "source": [
    "soup.find_all('h1')"
   ]
  },
  {
   "cell_type": "code",
   "execution_count": 27,
   "id": "b55bbccb-c7b3-481b-bc94-e4c0dfd1d478",
   "metadata": {},
   "outputs": [
    {
     "data": {
      "text/plain": [
       "'\\n\\t\\t\\t\\t\\t\\t\\tCompanies in India\\n\\t\\t\\t\\t\\t\\t'"
      ]
     },
     "execution_count": 27,
     "metadata": {},
     "output_type": "execute_result"
    }
   ],
   "source": [
    "soup.find_all('h1')[0].text"
   ]
  },
  {
   "cell_type": "code",
   "execution_count": 41,
   "id": "bd1001f5-19aa-40f0-833d-cbec7f8a4af4",
   "metadata": {},
   "outputs": [
    {
     "name": "stdout",
     "output_type": "stream",
     "text": [
      "TCS\n",
      "Accenture\n",
      "Wipro\n",
      "Cognizant\n",
      "Capgemini\n",
      "HDFC Bank\n",
      "Infosys\n",
      "ICICI Bank\n",
      "HCLTech\n",
      "Tech Mahindra\n",
      "Genpact\n",
      "Teleperformance\n",
      "Concentrix Corporation\n",
      "Axis Bank\n",
      "Amazon\n",
      "Jio\n",
      "iEnergizer\n",
      "Reliance Retail\n",
      "IBM\n",
      "LTIMindtree\n",
      "Companies by Industry\n",
      "Companies by Locations\n",
      "Companies by Type\n"
     ]
    }
   ],
   "source": [
    "for i in soup.find_all('h2'):\n",
    "    print(i.text.strip())#strip lagane se \\t and \\n hat jataa hai jisse sirf string mile"
   ]
  },
  {
   "cell_type": "code",
   "execution_count": 43,
   "id": "05c1679a-ddf2-4091-a04b-b4fab0fb950a",
   "metadata": {
    "scrolled": true
   },
   "outputs": [
    {
     "name": "stdout",
     "output_type": "stream",
     "text": [
      "Faster and better experience!\n",
      "AmbitionBox\n",
      "About Company\n",
      "Discover best places to work\n",
      "Compare & find best workplace\n",
      "Bring your workplace to life\n",
      "Highlight your company's perks\n",
      "Read reviews for 6L+ companies\n",
      "Rate your former or current company\n",
      "Discover salaries for 6L+ companies\n",
      "Calculate your take home salary\n",
      "Check your market value\n",
      "Help other jobseekers\n",
      "Check your gratuity amount\n",
      "Check how much of your HRA is tax-free\n",
      "Check your salary hike\n",
      "Read interviews for 40K+ companies\n",
      "Interviews questions for 2K+ colleges\n",
      "Contribute your interview questions\n",
      "AmbitionBox Employee Choice Awards - 4th Edition\n",
      "AmbitionBox Employee Choice Awards - 3rd Edition\n",
      "2nd Edition\n",
      "1st Edition\n",
      "9,08,235\n",
      "\t\t\t\t\t\t\tresults\n",
      "Popular\n",
      "AmbitionBox Award Winner'24\n",
      "AmbitionBox Award Winner'24\n",
      "AmbitionBox Award Winner'24\n",
      "AmbitionBox Award Winner'24\n",
      "AmbitionBox Award Winner'24\n",
      "AmbitionBox Award Winner'24\n",
      "AmbitionBox Award Winner'24\n",
      "AmbitionBox Award Winner'24\n",
      "AmbitionBox Award Winner'24\n",
      "AmbitionBox Award Winner'24\n",
      "AmbitionBox Award Winner'24\n",
      "Side-by-side comparison to make informed career\n",
      "\t\t\t\t\t\t\t\t\t\tdecisions\n",
      "Helping over\n",
      "\t\t\t\t\t\t\t\t\t1 Crore\n",
      "\t\t\t\t\t\t\t\t\tjob seekers every month in choosing their right fit company\n",
      "Reviews\n",
      "Salaries\n",
      "Interviews\n",
      "Users/Month\n",
      "About Company\n",
      "Made with ❤️ in India. Trademarks belong to their respective owners. All\n",
      "\t\t\t\t\trights reserved © 2025 Info Edge (India) Ltd.\n"
     ]
    }
   ],
   "source": [
    "for i in soup.find_all('p'):\n",
    "    print(i.text.strip())"
   ]
  },
  {
   "cell_type": "markdown",
   "id": "c8a620af-b477-4f0a-b795-29091244ec02",
   "metadata": {},
   "source": [
    "#### but here i wants p tag specefically for rating"
   ]
  },
  {
   "cell_type": "code",
   "execution_count": 78,
   "id": "3ea83a89-9a94-4d94-8612-251592261174",
   "metadata": {},
   "outputs": [
    {
     "data": {
      "text/plain": [
       "20"
      ]
     },
     "execution_count": 78,
     "metadata": {},
     "output_type": "execute_result"
    }
   ],
   "source": [
    "len(soup.find_all(class_= 'companyCardWrapper__companyRatingCount'))"
   ]
  },
  {
   "cell_type": "code",
   "execution_count": 64,
   "id": "9a9d28f6-175a-498f-bbab-e84526744bcf",
   "metadata": {},
   "outputs": [],
   "source": [
    "company = soup.find_all('div',class_='companyCardWrapper__primaryInformation')"
   ]
  },
  {
   "cell_type": "code",
   "execution_count": 66,
   "id": "7d970631-4800-497f-8056-bd8d34a099f6",
   "metadata": {},
   "outputs": [
    {
     "data": {
      "text/plain": [
       "20"
      ]
     },
     "execution_count": 66,
     "metadata": {},
     "output_type": "execute_result"
    }
   ],
   "source": [
    "len(company)"
   ]
  },
  {
   "cell_type": "code",
   "execution_count": 106,
   "id": "daf3ea3f-77c5-4f8e-b51b-b359da4f4f04",
   "metadata": {},
   "outputs": [
    {
     "data": {
      "text/html": [
       "<div>\n",
       "<style scoped>\n",
       "    .dataframe tbody tr th:only-of-type {\n",
       "        vertical-align: middle;\n",
       "    }\n",
       "\n",
       "    .dataframe tbody tr th {\n",
       "        vertical-align: top;\n",
       "    }\n",
       "\n",
       "    .dataframe thead th {\n",
       "        text-align: right;\n",
       "    }\n",
       "</style>\n",
       "<table border=\"1\" class=\"dataframe\">\n",
       "  <thead>\n",
       "    <tr style=\"text-align: right;\">\n",
       "      <th></th>\n",
       "      <th>name</th>\n",
       "      <th>rating</th>\n",
       "      <th>reviews</th>\n",
       "      <th>rating_comparision</th>\n",
       "    </tr>\n",
       "  </thead>\n",
       "  <tbody>\n",
       "    <tr>\n",
       "      <th>0</th>\n",
       "      <td>TCS</td>\n",
       "      <td>3.7</td>\n",
       "      <td>(92.7k)</td>\n",
       "      <td>Highly Rated For Job Security, Work Life Balan...</td>\n",
       "    </tr>\n",
       "    <tr>\n",
       "      <th>1</th>\n",
       "      <td>Accenture</td>\n",
       "      <td>3.8</td>\n",
       "      <td>(58.6k)</td>\n",
       "      <td>Highly Rated For Job Security  Critically Rate...</td>\n",
       "    </tr>\n",
       "    <tr>\n",
       "      <th>2</th>\n",
       "      <td>Wipro</td>\n",
       "      <td>3.7</td>\n",
       "      <td>(54.6k)</td>\n",
       "      <td>Highly Rated For Job Security  Critically Rate...</td>\n",
       "    </tr>\n",
       "    <tr>\n",
       "      <th>3</th>\n",
       "      <td>Cognizant</td>\n",
       "      <td>3.7</td>\n",
       "      <td>(51.9k)</td>\n",
       "      <td>Critically Rated For Promotions / Appraisal, S...</td>\n",
       "    </tr>\n",
       "    <tr>\n",
       "      <th>4</th>\n",
       "      <td>Capgemini</td>\n",
       "      <td>3.7</td>\n",
       "      <td>(43.4k)</td>\n",
       "      <td>Highly Rated For Work Life Balance, Job Securi...</td>\n",
       "    </tr>\n",
       "    <tr>\n",
       "      <th>5</th>\n",
       "      <td>HDFC Bank</td>\n",
       "      <td>3.9</td>\n",
       "      <td>(40.9k)</td>\n",
       "      <td>Highly Rated For Job Security, Skill Developme...</td>\n",
       "    </tr>\n",
       "    <tr>\n",
       "      <th>6</th>\n",
       "      <td>Infosys</td>\n",
       "      <td>3.6</td>\n",
       "      <td>(40.7k)</td>\n",
       "      <td>Highly Rated For Job Security  Critically Rate...</td>\n",
       "    </tr>\n",
       "    <tr>\n",
       "      <th>7</th>\n",
       "      <td>ICICI Bank</td>\n",
       "      <td>4.0</td>\n",
       "      <td>(39.1k)</td>\n",
       "      <td>Highly Rated For Job Security, Skill Developme...</td>\n",
       "    </tr>\n",
       "    <tr>\n",
       "      <th>8</th>\n",
       "      <td>HCLTech</td>\n",
       "      <td>3.5</td>\n",
       "      <td>(37.4k)</td>\n",
       "      <td>Highly Rated For Job Security  Critically Rate...</td>\n",
       "    </tr>\n",
       "    <tr>\n",
       "      <th>9</th>\n",
       "      <td>Tech Mahindra</td>\n",
       "      <td>3.5</td>\n",
       "      <td>(36.3k)</td>\n",
       "      <td>Critically Rated For Promotions / Appraisal, S...</td>\n",
       "    </tr>\n",
       "    <tr>\n",
       "      <th>10</th>\n",
       "      <td>Genpact</td>\n",
       "      <td>3.8</td>\n",
       "      <td>(32.6k)</td>\n",
       "      <td>Highly Rated For Job Security, Work Life Balan...</td>\n",
       "    </tr>\n",
       "    <tr>\n",
       "      <th>11</th>\n",
       "      <td>Teleperformance</td>\n",
       "      <td>3.9</td>\n",
       "      <td>(30.6k)</td>\n",
       "      <td>Highly Rated For Company Culture, Work Life Ba...</td>\n",
       "    </tr>\n",
       "    <tr>\n",
       "      <th>12</th>\n",
       "      <td>Concentrix Corporation</td>\n",
       "      <td>3.8</td>\n",
       "      <td>(27.2k)</td>\n",
       "      <td>Highly Rated For Job Security  Critically Rate...</td>\n",
       "    </tr>\n",
       "    <tr>\n",
       "      <th>13</th>\n",
       "      <td>Axis Bank</td>\n",
       "      <td>3.8</td>\n",
       "      <td>(26.3k)</td>\n",
       "      <td>Critically Rated For Promotions / Appraisal, W...</td>\n",
       "    </tr>\n",
       "    <tr>\n",
       "      <th>14</th>\n",
       "      <td>Amazon</td>\n",
       "      <td>4.1</td>\n",
       "      <td>(25.9k)</td>\n",
       "      <td>Highly Rated For Company Culture, Salary &amp; Ben...</td>\n",
       "    </tr>\n",
       "    <tr>\n",
       "      <th>15</th>\n",
       "      <td>Jio</td>\n",
       "      <td>4.0</td>\n",
       "      <td>(24k)</td>\n",
       "      <td>Highly Rated For Job Security, Skill Developme...</td>\n",
       "    </tr>\n",
       "    <tr>\n",
       "      <th>16</th>\n",
       "      <td>iEnergizer</td>\n",
       "      <td>4.6</td>\n",
       "      <td>(23.2k)</td>\n",
       "      <td>Highly Rated For Company Culture, Work Life Ba...</td>\n",
       "    </tr>\n",
       "    <tr>\n",
       "      <th>17</th>\n",
       "      <td>Reliance Retail</td>\n",
       "      <td>3.9</td>\n",
       "      <td>(23k)</td>\n",
       "      <td>Highly Rated For Skill Development / Learning,...</td>\n",
       "    </tr>\n",
       "    <tr>\n",
       "      <th>18</th>\n",
       "      <td>IBM</td>\n",
       "      <td>4.0</td>\n",
       "      <td>(23k)</td>\n",
       "      <td>Highly Rated For Work Life Balance, Company Cu...</td>\n",
       "    </tr>\n",
       "    <tr>\n",
       "      <th>19</th>\n",
       "      <td>LTIMindtree</td>\n",
       "      <td>3.8</td>\n",
       "      <td>(21.7k)</td>\n",
       "      <td>Highly Rated For Work Life Balance  Critically...</td>\n",
       "    </tr>\n",
       "  </tbody>\n",
       "</table>\n",
       "</div>"
      ],
      "text/plain": [
       "                      name rating  reviews  \\\n",
       "0                      TCS    3.7  (92.7k)   \n",
       "1                Accenture    3.8  (58.6k)   \n",
       "2                    Wipro    3.7  (54.6k)   \n",
       "3                Cognizant    3.7  (51.9k)   \n",
       "4                Capgemini    3.7  (43.4k)   \n",
       "5                HDFC Bank    3.9  (40.9k)   \n",
       "6                  Infosys    3.6  (40.7k)   \n",
       "7               ICICI Bank    4.0  (39.1k)   \n",
       "8                  HCLTech    3.5  (37.4k)   \n",
       "9            Tech Mahindra    3.5  (36.3k)   \n",
       "10                 Genpact    3.8  (32.6k)   \n",
       "11         Teleperformance    3.9  (30.6k)   \n",
       "12  Concentrix Corporation    3.8  (27.2k)   \n",
       "13               Axis Bank    3.8  (26.3k)   \n",
       "14                  Amazon    4.1  (25.9k)   \n",
       "15                     Jio    4.0    (24k)   \n",
       "16              iEnergizer    4.6  (23.2k)   \n",
       "17         Reliance Retail    3.9    (23k)   \n",
       "18                     IBM    4.0    (23k)   \n",
       "19             LTIMindtree    3.8  (21.7k)   \n",
       "\n",
       "                                   rating_comparision  \n",
       "0   Highly Rated For Job Security, Work Life Balan...  \n",
       "1   Highly Rated For Job Security  Critically Rate...  \n",
       "2   Highly Rated For Job Security  Critically Rate...  \n",
       "3   Critically Rated For Promotions / Appraisal, S...  \n",
       "4   Highly Rated For Work Life Balance, Job Securi...  \n",
       "5   Highly Rated For Job Security, Skill Developme...  \n",
       "6   Highly Rated For Job Security  Critically Rate...  \n",
       "7   Highly Rated For Job Security, Skill Developme...  \n",
       "8   Highly Rated For Job Security  Critically Rate...  \n",
       "9   Critically Rated For Promotions / Appraisal, S...  \n",
       "10  Highly Rated For Job Security, Work Life Balan...  \n",
       "11  Highly Rated For Company Culture, Work Life Ba...  \n",
       "12  Highly Rated For Job Security  Critically Rate...  \n",
       "13  Critically Rated For Promotions / Appraisal, W...  \n",
       "14  Highly Rated For Company Culture, Salary & Ben...  \n",
       "15  Highly Rated For Job Security, Skill Developme...  \n",
       "16  Highly Rated For Company Culture, Work Life Ba...  \n",
       "17  Highly Rated For Skill Development / Learning,...  \n",
       "18  Highly Rated For Work Life Balance, Company Cu...  \n",
       "19  Highly Rated For Work Life Balance  Critically...  "
      ]
     },
     "execution_count": 106,
     "metadata": {},
     "output_type": "execute_result"
    }
   ],
   "source": [
    "name = []\n",
    "rating = []\n",
    "review = []\n",
    "rating_comparision = []\n",
    "for i in company:\n",
    "    name.append(i.find('h2').text.strip())\n",
    "    rating.append(i.find('div',class_='rating_text rating_text--md').text.strip())\n",
    "    review.append(i.find(class_='companyCardWrapper__companyRatingCount').text.strip())\n",
    "    rating_comparision.append(i.find(class_='companyCardWrapper__ratingComparisonWrapper').text.strip())\n",
    "\n",
    "d={'name':name, 'rating':rating , 'reviews':review ,'rating_comparision':rating_comparision}\n",
    "\n",
    "df = pd.DataFrame(d)\n",
    "\n",
    "df"
   ]
  },
  {
   "cell_type": "code",
   "execution_count": 110,
   "id": "00084f24-d40e-4bd4-8356-d6fcb5705fbb",
   "metadata": {},
   "outputs": [
    {
     "data": {
      "text/plain": [
       "(20, 4)"
      ]
     },
     "execution_count": 110,
     "metadata": {},
     "output_type": "execute_result"
    }
   ],
   "source": [
    "df.shape"
   ]
  },
  {
   "cell_type": "code",
   "execution_count": 120,
   "id": "cd16d91d-5b67-4fc7-a4e4-54bb7e296023",
   "metadata": {},
   "outputs": [
    {
     "ename": "AttributeError",
     "evalue": "'DataFrame' object has no attribute 'append'",
     "output_type": "error",
     "traceback": [
      "\u001b[1;31m---------------------------------------------------------------------------\u001b[0m",
      "\u001b[1;31mAttributeError\u001b[0m                            Traceback (most recent call last)",
      "\u001b[1;32m~\\AppData\\Local\\Temp\\ipykernel_12808\\3951818018.py\u001b[0m in \u001b[0;36m?\u001b[1;34m()\u001b[0m\n\u001b[0;32m     19\u001b[0m     \u001b[0md\u001b[0m\u001b[1;33m=\u001b[0m\u001b[1;33m{\u001b[0m\u001b[1;34m'name'\u001b[0m\u001b[1;33m:\u001b[0m\u001b[0mname\u001b[0m\u001b[1;33m,\u001b[0m \u001b[1;34m'rating'\u001b[0m\u001b[1;33m:\u001b[0m\u001b[0mrating\u001b[0m \u001b[1;33m,\u001b[0m \u001b[1;34m'reviews'\u001b[0m\u001b[1;33m:\u001b[0m\u001b[0mreview\u001b[0m \u001b[1;33m,\u001b[0m\u001b[1;34m'rating_comparision'\u001b[0m\u001b[1;33m:\u001b[0m\u001b[0mrating_comparision\u001b[0m\u001b[1;33m}\u001b[0m\u001b[1;33m\u001b[0m\u001b[1;33m\u001b[0m\u001b[0m\n\u001b[0;32m     20\u001b[0m \u001b[1;33m\u001b[0m\u001b[0m\n\u001b[0;32m     21\u001b[0m     \u001b[0mdf\u001b[0m \u001b[1;33m=\u001b[0m \u001b[0mpd\u001b[0m\u001b[1;33m.\u001b[0m\u001b[0mDataFrame\u001b[0m\u001b[1;33m(\u001b[0m\u001b[0md\u001b[0m\u001b[1;33m)\u001b[0m\u001b[1;33m\u001b[0m\u001b[1;33m\u001b[0m\u001b[0m\n\u001b[0;32m     22\u001b[0m \u001b[1;33m\u001b[0m\u001b[0m\n\u001b[1;32m---> 23\u001b[1;33m     \u001b[0mfinal\u001b[0m \u001b[1;33m=\u001b[0m \u001b[0mfinal\u001b[0m\u001b[1;33m.\u001b[0m\u001b[0mappend\u001b[0m\u001b[1;33m(\u001b[0m\u001b[0mdf\u001b[0m\u001b[1;33m,\u001b[0m\u001b[0mignore_index\u001b[0m\u001b[1;33m=\u001b[0m\u001b[1;32mTrue\u001b[0m\u001b[1;33m)\u001b[0m\u001b[1;33m\u001b[0m\u001b[1;33m\u001b[0m\u001b[0m\n\u001b[0m",
      "\u001b[1;32mC:\\ProgramData\\anaconda3\\Lib\\site-packages\\pandas\\core\\generic.py\u001b[0m in \u001b[0;36m?\u001b[1;34m(self, name)\u001b[0m\n\u001b[0;32m   6295\u001b[0m             \u001b[1;32mand\u001b[0m \u001b[0mname\u001b[0m \u001b[1;32mnot\u001b[0m \u001b[1;32min\u001b[0m \u001b[0mself\u001b[0m\u001b[1;33m.\u001b[0m\u001b[0m_accessors\u001b[0m\u001b[1;33m\u001b[0m\u001b[1;33m\u001b[0m\u001b[0m\n\u001b[0;32m   6296\u001b[0m             \u001b[1;32mand\u001b[0m \u001b[0mself\u001b[0m\u001b[1;33m.\u001b[0m\u001b[0m_info_axis\u001b[0m\u001b[1;33m.\u001b[0m\u001b[0m_can_hold_identifiers_and_holds_name\u001b[0m\u001b[1;33m(\u001b[0m\u001b[0mname\u001b[0m\u001b[1;33m)\u001b[0m\u001b[1;33m\u001b[0m\u001b[1;33m\u001b[0m\u001b[0m\n\u001b[0;32m   6297\u001b[0m         \u001b[1;33m)\u001b[0m\u001b[1;33m:\u001b[0m\u001b[1;33m\u001b[0m\u001b[1;33m\u001b[0m\u001b[0m\n\u001b[0;32m   6298\u001b[0m             \u001b[1;32mreturn\u001b[0m \u001b[0mself\u001b[0m\u001b[1;33m[\u001b[0m\u001b[0mname\u001b[0m\u001b[1;33m]\u001b[0m\u001b[1;33m\u001b[0m\u001b[1;33m\u001b[0m\u001b[0m\n\u001b[1;32m-> 6299\u001b[1;33m         \u001b[1;32mreturn\u001b[0m \u001b[0mobject\u001b[0m\u001b[1;33m.\u001b[0m\u001b[0m__getattribute__\u001b[0m\u001b[1;33m(\u001b[0m\u001b[0mself\u001b[0m\u001b[1;33m,\u001b[0m \u001b[0mname\u001b[0m\u001b[1;33m)\u001b[0m\u001b[1;33m\u001b[0m\u001b[1;33m\u001b[0m\u001b[0m\n\u001b[0m",
      "\u001b[1;31mAttributeError\u001b[0m: 'DataFrame' object has no attribute 'append'"
     ]
    }
   ],
   "source": [
    "final = pd.DataFrame()\n",
    "for j in range(1,11):\n",
    "\n",
    "    url = 'https://www.ambitionbox.com/list-of-companies?page={}'.format(j)\n",
    "    headers={'User-Agent':'Mozilla/5.0 (Windows NT 6.3; Win 64 ; x64) Apple WeKit /537.36(KHTML , like Gecko) Chrome/80.0.3987.162 Safari/537.36',\"Accept\": 'text/html,application/xhtml+xml,application/xml;q=0.9,image/avif,image/webp,image/apng,*/*;q=0.8,application/signed-exchange;v=b3;q=0.7', 'sec-ch-ua': 'Chromium\";v=\"130\", \"Google Chrome\";v=\"130\", \"Not?A_Brand\";v=\"99', 'sec-ch-ua-mobile':'?0', 'sec-ch-ua-platform': 'Windows', 'sec-fetch-dest': 'document', 'sec-fetch-mode': 'navigate', 'sec-fetch-site': 'same-origin', 'sec-fetch-user': '?1', 'upgrade-insecure-requests': '1'}\n",
    "    webpage = requests.get(url,headers = headers).text\n",
    "    soup = BeautifulSoup(webpage , 'lxml')\n",
    "    company=soup.find_all('div',class_='company-content-wrapper')\n",
    "    name = []\n",
    "    rating = []\n",
    "    review = []\n",
    "    rating_comparision = []\n",
    "    for i in company:\n",
    "        name.append(i.find('h2').text.strip())\n",
    "        rating.append(i.find('div',class_='rating_text rating_text--md').text.strip())\n",
    "        review.append(i.find(class_='companyCardWrapper__companyRatingCount').text.strip())\n",
    "        rating_comparision.append(i.find(class_='companyCardWrapper__ratingComparisonWrapper').text.strip())\n",
    "    \n",
    "    d={'name':name, 'rating':rating , 'reviews':review ,'rating_comparision':rating_comparision}\n",
    "    \n",
    "    df = pd.DataFrame(d)\n",
    "\n",
    "    final = final.append(df,ignore_index=True)\n"
   ]
  },
  {
   "cell_type": "code",
   "execution_count": 76,
   "id": "94d144a8-4fd7-43fc-838f-c1d7d7bb9e6d",
   "metadata": {},
   "outputs": [
    {
     "data": {
      "text/plain": [
       "['TCS',\n",
       " 'Accenture',\n",
       " 'Wipro',\n",
       " 'Cognizant',\n",
       " 'Capgemini',\n",
       " 'HDFC Bank',\n",
       " 'Infosys',\n",
       " 'ICICI Bank',\n",
       " 'HCLTech',\n",
       " 'Tech Mahindra',\n",
       " 'Genpact',\n",
       " 'Teleperformance',\n",
       " 'Concentrix Corporation',\n",
       " 'Axis Bank',\n",
       " 'Amazon',\n",
       " 'Jio',\n",
       " 'iEnergizer',\n",
       " 'Reliance Retail',\n",
       " 'IBM',\n",
       " 'LTIMindtree']"
      ]
     },
     "execution_count": 76,
     "metadata": {},
     "output_type": "execute_result"
    }
   ],
   "source": [
    "name"
   ]
  },
  {
   "cell_type": "code",
   "execution_count": 86,
   "id": "ee0a543b-6a7e-4fc2-91b6-98fd112fe34f",
   "metadata": {},
   "outputs": [
    {
     "data": {
      "text/plain": [
       "[['3.7'],\n",
       " ['3.8'],\n",
       " ['3.7'],\n",
       " ['3.7'],\n",
       " ['3.7'],\n",
       " ['3.9'],\n",
       " ['3.6'],\n",
       " ['4.0'],\n",
       " ['3.5'],\n",
       " ['3.5'],\n",
       " ['3.8'],\n",
       " ['3.9'],\n",
       " ['3.8'],\n",
       " ['3.8'],\n",
       " ['4.1'],\n",
       " ['4.0'],\n",
       " ['4.6'],\n",
       " ['3.9'],\n",
       " ['4.0'],\n",
       " ['3.8']]"
      ]
     },
     "execution_count": 86,
     "metadata": {},
     "output_type": "execute_result"
    }
   ],
   "source": [
    "rating\n"
   ]
  },
  {
   "cell_type": "code",
   "execution_count": 100,
   "id": "f3f7d9c4-64a4-4af9-a374-098d15887745",
   "metadata": {},
   "outputs": [
    {
     "data": {
      "text/plain": [
       "['(92.7k)',\n",
       " '(58.6k)',\n",
       " '(54.6k)',\n",
       " '(51.9k)',\n",
       " '(43.4k)',\n",
       " '(40.9k)',\n",
       " '(40.7k)',\n",
       " '(39.1k)',\n",
       " '(37.4k)',\n",
       " '(36.3k)',\n",
       " '(32.6k)',\n",
       " '(30.6k)',\n",
       " '(27.2k)',\n",
       " '(26.3k)',\n",
       " '(25.9k)',\n",
       " '(24k)',\n",
       " '(23.2k)',\n",
       " '(23k)',\n",
       " '(23k)',\n",
       " '(21.7k)']"
      ]
     },
     "execution_count": 100,
     "metadata": {},
     "output_type": "execute_result"
    }
   ],
   "source": [
    "review"
   ]
  },
  {
   "cell_type": "code",
   "execution_count": 104,
   "id": "816ffab7-d4a3-40d6-8b70-d10873798c9b",
   "metadata": {},
   "outputs": [
    {
     "data": {
      "text/plain": [
       "['Highly Rated For Job Security, Work Life Balance  Critically Rated For Promotions / Appraisal, Salary & Benefits, Work Satisfaction',\n",
       " 'Highly Rated For Job Security  Critically Rated For Promotions / Appraisal, Salary & Benefits',\n",
       " 'Highly Rated For Job Security  Critically Rated For Promotions / Appraisal, Salary & Benefits, Work Satisfaction',\n",
       " 'Critically Rated For Promotions / Appraisal, Salary & Benefits, Work Satisfaction',\n",
       " 'Highly Rated For Work Life Balance, Job Security  Critically Rated For Promotions / Appraisal, Salary & Benefits',\n",
       " 'Highly Rated For Job Security, Skill Development / Learning  Critically Rated For Promotions / Appraisal',\n",
       " 'Highly Rated For Job Security  Critically Rated For Promotions / Appraisal, Salary & Benefits, Work Satisfaction',\n",
       " 'Highly Rated For Job Security, Skill Development / Learning, Company Culture',\n",
       " 'Highly Rated For Job Security  Critically Rated For Promotions / Appraisal, Salary & Benefits, Work Satisfaction',\n",
       " 'Critically Rated For Promotions / Appraisal, Salary & Benefits, Work Satisfaction',\n",
       " 'Highly Rated For Job Security, Work Life Balance, Skill Development / Learning  Critically Rated For Promotions / Appraisal, Salary & Benefits',\n",
       " 'Highly Rated For Company Culture, Work Life Balance, Job Security',\n",
       " 'Highly Rated For Job Security  Critically Rated For Promotions / Appraisal, Salary & Benefits, Work Satisfaction',\n",
       " 'Critically Rated For Promotions / Appraisal, Work Satisfaction',\n",
       " 'Highly Rated For Company Culture, Salary & Benefits, Work Life Balance  Critically Rated For Promotions / Appraisal',\n",
       " 'Highly Rated For Job Security, Skill Development / Learning, Work Life Balance  Critically Rated For Promotions / Appraisal',\n",
       " 'Highly Rated For Company Culture, Work Life Balance, Work Satisfaction',\n",
       " 'Highly Rated For Skill Development / Learning, Job Security  Critically Rated For Promotions / Appraisal',\n",
       " 'Highly Rated For Work Life Balance, Company Culture, Job Security  Critically Rated For Promotions / Appraisal',\n",
       " 'Highly Rated For Work Life Balance  Critically Rated For Promotions / Appraisal, Salary & Benefits']"
      ]
     },
     "execution_count": 104,
     "metadata": {},
     "output_type": "execute_result"
    }
   ],
   "source": [
    "rating_comparision"
   ]
  },
  {
   "cell_type": "code",
   "execution_count": null,
   "id": "485ae6e5-06b7-468c-9139-8a2f558c1b46",
   "metadata": {},
   "outputs": [],
   "source": []
  }
 ],
 "metadata": {
  "kernelspec": {
   "display_name": "Python [conda env:base] *",
   "language": "python",
   "name": "conda-base-py"
  },
  "language_info": {
   "codemirror_mode": {
    "name": "ipython",
    "version": 3
   },
   "file_extension": ".py",
   "mimetype": "text/x-python",
   "name": "python",
   "nbconvert_exporter": "python",
   "pygments_lexer": "ipython3",
   "version": "3.12.7"
  }
 },
 "nbformat": 4,
 "nbformat_minor": 5
}
