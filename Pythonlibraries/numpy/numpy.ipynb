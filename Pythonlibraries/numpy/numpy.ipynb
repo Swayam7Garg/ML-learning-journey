{
 "cells": [
  {
   "cell_type": "code",
   "execution_count": null,
   "id": "3dea0932",
   "metadata": {},
   "outputs": [],
   "source": [
    "import numpy as np\n",
    "#https://numpy.org/doc/1.18/numpy-user.pdf"
   ]
  },
  {
   "cell_type": "markdown",
   "id": "698bedf4",
   "metadata": {},
   "source": [
    "Creating Arrays"
   ]
  },
  {
   "cell_type": "code",
   "execution_count": 3,
   "id": "09e5c760",
   "metadata": {},
   "outputs": [],
   "source": [
    "#a = np.array(1,2,3,4)  WRONG\n",
    "a = np.array([1,2,3,4]) # RIGHT"
   ]
  },
  {
   "cell_type": "code",
   "execution_count": 5,
   "id": "58af9053",
   "metadata": {},
   "outputs": [
    {
     "data": {
      "text/plain": [
       "array([[1.+0.j, 2.+0.j],\n",
       "       [3.+0.j, 4.+0.j]])"
      ]
     },
     "execution_count": 5,
     "metadata": {},
     "output_type": "execute_result"
    }
   ],
   "source": [
    "#The type of the array can also be explicitly specified at creation time:\n",
    "c = np.array( [ [1,2], [3,4] ], dtype=complex )\n",
    "c"
   ]
  },
  {
   "cell_type": "code",
   "execution_count": 9,
   "id": "dbe06ac7",
   "metadata": {},
   "outputs": [],
   "source": [
    "# creating numpy array from list \n",
    "a = np.array([1,2,3,4])"
   ]
  },
  {
   "cell_type": "code",
   "execution_count": 11,
   "id": "52b51a0c",
   "metadata": {},
   "outputs": [
    {
     "data": {
      "text/plain": [
       "array([[0., 0., 0., 0., 0.],\n",
       "       [0., 0., 0., 0., 0.],\n",
       "       [0., 0., 0., 0., 0.],\n",
       "       [0., 0., 0., 0., 0.]])"
      ]
     },
     "execution_count": 11,
     "metadata": {},
     "output_type": "execute_result"
    }
   ],
   "source": [
    "np.zeros((4,5))"
   ]
  },
  {
   "cell_type": "code",
   "execution_count": 6,
   "id": "a5acfbc6",
   "metadata": {},
   "outputs": [
    {
     "data": {
      "text/plain": [
       "array([[7, 7],\n",
       "       [7, 7]])"
      ]
     },
     "execution_count": 6,
     "metadata": {},
     "output_type": "execute_result"
    }
   ],
   "source": [
    "np.full((2,2),7) # Create a constant array"
   ]
  },
  {
   "cell_type": "code",
   "execution_count": 8,
   "id": "0e6f77a5",
   "metadata": {},
   "outputs": [
    {
     "data": {
      "text/plain": [
       "array([[1., 0., 0., 0.],\n",
       "       [0., 1., 0., 0.],\n",
       "       [0., 0., 1., 0.],\n",
       "       [0., 0., 0., 1.]])"
      ]
     },
     "execution_count": 8,
     "metadata": {},
     "output_type": "execute_result"
    }
   ],
   "source": [
    "np.eye(4)# Create a 2-D identity matrix"
   ]
  },
  {
   "cell_type": "code",
   "execution_count": 12,
   "id": "2b453002",
   "metadata": {},
   "outputs": [
    {
     "data": {
      "text/plain": [
       "array([[1, 2, 3],\n",
       "       [4, 5, 6]])"
      ]
     },
     "execution_count": 12,
     "metadata": {},
     "output_type": "execute_result"
    }
   ],
   "source": [
    "# Multi dimensional array\n",
    "A = np.array([[1,2,3] , [4,5,6]])\n",
    "A"
   ]
  },
  {
   "cell_type": "code",
   "execution_count": 14,
   "id": "b0103b70",
   "metadata": {},
   "outputs": [
    {
     "data": {
      "text/plain": [
       "array([0, 1, 2, 3, 4, 5, 6, 7, 8, 9])"
      ]
     },
     "execution_count": 14,
     "metadata": {},
     "output_type": "execute_result"
    }
   ],
   "source": [
    "np.arange(0 ,10)"
   ]
  },
  {
   "cell_type": "code",
   "execution_count": 15,
   "id": "88fa4521",
   "metadata": {},
   "outputs": [
    {
     "data": {
      "text/plain": [
       "array([10, 13, 16, 19])"
      ]
     },
     "execution_count": 15,
     "metadata": {},
     "output_type": "execute_result"
    }
   ],
   "source": [
    "np.arange(10 , 20 ,3)"
   ]
  },
  {
   "cell_type": "code",
   "execution_count": 16,
   "id": "9f543505",
   "metadata": {},
   "outputs": [
    {
     "data": {
      "text/plain": [
       "array([ 0. ,  2.5,  5. ,  7.5, 10. ])"
      ]
     },
     "execution_count": 16,
     "metadata": {},
     "output_type": "execute_result"
    }
   ],
   "source": [
    "#it is usually better to use the function linspace that receives as an argument the number of elements that we want, instead of the step:\n",
    "np.linspace(0 , 10 ,5) # 5 numbers between 0 and 10"
   ]
  },
  {
   "cell_type": "code",
   "execution_count": 18,
   "id": "a760bced",
   "metadata": {},
   "outputs": [
    {
     "data": {
      "text/plain": [
       "array([[9, 2, 1],\n",
       "       [1, 1, 6]])"
      ]
     },
     "execution_count": 18,
     "metadata": {},
     "output_type": "execute_result"
    }
   ],
   "source": [
    "z = np.random.rand(2, 2)     # Uniform [0, 1)\n",
    "x = np.random.randn(2, 2)    # Standard normal distribution\n",
    "np.random.randint(1, 10, size=(2, 3))  # Random integers"
   ]
  },
  {
   "cell_type": "code",
   "execution_count": 20,
   "id": "3baea4a6",
   "metadata": {},
   "outputs": [
    {
     "data": {
      "text/plain": [
       "(array([[0.5169558 , 0.11248104],\n",
       "        [0.82464399, 0.17193798]]),\n",
       " array([[-1.26798646,  0.92160946],\n",
       "        [-0.04615126, -1.17784799]]))"
      ]
     },
     "execution_count": 20,
     "metadata": {},
     "output_type": "execute_result"
    }
   ],
   "source": [
    "z,x\n"
   ]
  },
  {
   "cell_type": "markdown",
   "id": "719f6600",
   "metadata": {},
   "source": [
    "Array Atrributes"
   ]
  },
  {
   "cell_type": "code",
   "execution_count": null,
   "id": "574cc364",
   "metadata": {},
   "outputs": [
    {
     "data": {
      "text/plain": [
       "24"
      ]
     },
     "execution_count": 25,
     "metadata": {},
     "output_type": "execute_result"
    }
   ],
   "source": [
    "x = np.array([[1,2,3] , [4,5,6]])\n",
    "x.shape    #(2,3)\n",
    "x.ndim     #2\n",
    "x.size     #6\n",
    "x.dtype    #data type(int 64)\n",
    "x.itemsize #bytes per element\n",
    "x.transpose#total bytes\n",
    "x.nbytes   # transpose"
   ]
  },
  {
   "cell_type": "markdown",
   "id": "73c40bc6",
   "metadata": {},
   "source": [
    "Reshaping and Flattening"
   ]
  },
  {
   "cell_type": "code",
   "execution_count": 29,
   "id": "620357e6",
   "metadata": {},
   "outputs": [
    {
     "data": {
      "text/plain": [
       "array([[ 0,  1,  2,  3,  4],\n",
       "       [ 5,  6,  7,  8,  9],\n",
       "       [10, 11, 12, 13, 14]])"
      ]
     },
     "execution_count": 29,
     "metadata": {},
     "output_type": "execute_result"
    }
   ],
   "source": [
    "a = np.arange(15).reshape(3,5)\n",
    "a"
   ]
  },
  {
   "cell_type": "code",
   "execution_count": 31,
   "id": "575d3c69",
   "metadata": {},
   "outputs": [
    {
     "data": {
      "text/plain": [
       "array([ 0,  1,  2,  3,  4,  5,  6,  7,  8,  9, 10, 11, 12, 13, 14])"
      ]
     },
     "execution_count": 31,
     "metadata": {},
     "output_type": "execute_result"
    }
   ],
   "source": [
    "a.ravel()           # Flatten to 1D"
   ]
  },
  {
   "cell_type": "code",
   "execution_count": 32,
   "id": "0660b962",
   "metadata": {},
   "outputs": [
    {
     "data": {
      "text/plain": [
       "array([ 0,  1,  2,  3,  4,  5,  6,  7,  8,  9, 10, 11, 12, 13, 14])"
      ]
     },
     "execution_count": 32,
     "metadata": {},
     "output_type": "execute_result"
    }
   ],
   "source": [
    "\n",
    "a.flatten()         # Same as ravel but returns a copy"
   ]
  },
  {
   "cell_type": "markdown",
   "id": "a62ef46b",
   "metadata": {},
   "source": [
    "Reshaping and Slicing "
   ]
  },
  {
   "cell_type": "code",
   "execution_count": 33,
   "id": "b0ec9a28",
   "metadata": {},
   "outputs": [
    {
     "data": {
      "text/plain": [
       "array([ 4,  9, 14])"
      ]
     },
     "execution_count": 33,
     "metadata": {},
     "output_type": "execute_result"
    }
   ],
   "source": [
    "a[0]               # First row\n",
    "a[1, 2]            # Row 1, Col 2\n",
    "a[:, 1]            # All rows, column 1\n",
    "a[1:, :2]          # Rows 1 to end, columns 0 to 1\n",
    "a[-1]              # Last row\n",
    "a[:,-1]            # Last column"
   ]
  },
  {
   "cell_type": "code",
   "execution_count": null,
   "id": "3eacbce4",
   "metadata": {},
   "outputs": [],
   "source": [
    "b = a.view()# Shallow copy (shares data)"
   ]
  },
  {
   "cell_type": "code",
   "execution_count": null,
   "id": "65391ae5",
   "metadata": {},
   "outputs": [],
   "source": [
    "c = a.copy()# Deep copy (independent)"
   ]
  },
  {
   "cell_type": "markdown",
   "id": "40f2e2ed",
   "metadata": {},
   "source": [
    "Stacking arrays"
   ]
  },
  {
   "cell_type": "code",
   "execution_count": 37,
   "id": "c6f0269a",
   "metadata": {},
   "outputs": [
    {
     "data": {
      "text/plain": [
       "'np.hstack([a, b])  # Horizontal stack\\nnp.vstack([a, b])  # Vertical stack\\nnp.concatenate([a, b], axis=0)\\n'"
      ]
     },
     "execution_count": 37,
     "metadata": {},
     "output_type": "execute_result"
    }
   ],
   "source": [
    "'''np.hstack([a, b])  # Horizontal stack\n",
    "np.vstack([a, b])  # Vertical stack\n",
    "np.concatenate([a, b], axis=0)\n",
    "'''"
   ]
  }
 ],
 "metadata": {
  "kernelspec": {
   "display_name": "base",
   "language": "python",
   "name": "python3"
  },
  "language_info": {
   "codemirror_mode": {
    "name": "ipython",
    "version": 3
   },
   "file_extension": ".py",
   "mimetype": "text/x-python",
   "name": "python",
   "nbconvert_exporter": "python",
   "pygments_lexer": "ipython3",
   "version": "3.12.7"
  }
 },
 "nbformat": 4,
 "nbformat_minor": 5
}
